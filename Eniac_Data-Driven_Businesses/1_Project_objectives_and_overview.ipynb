{
  "nbformat": 4,
  "nbformat_minor": 0,
  "metadata": {
    "colab": {
      "provenance": []
    },
    "kernelspec": {
      "name": "python3",
      "display_name": "Python 3"
    },
    "language_info": {
      "name": "python"
    }
  },
  "cells": [
    {
      "cell_type": "markdown",
      "source": [
        "# **Eniac | Data Driven Businesses with SQL & Tableau**"
      ],
      "metadata": {
        "id": "UURRUuBLtjk8"
      }
    },
    {
      "cell_type": "markdown",
      "source": [
        "## **1. PROJECT OBJECTIVES & OVERVIEW**"
      ],
      "metadata": {
        "id": "GOiUCdXDtiNH"
      }
    },
    {
      "cell_type": "markdown",
      "source": [
        "### 1.1. INTRODUCTION\n"
      ],
      "metadata": {
        "id": "aN--Qf_63ZAI"
      }
    },
    {
      "cell_type": "markdown",
      "source": [
        "Eniac is an online marketplace specializing in Apple-compatible accessories. It was founded 10 years ago in Spain and it has since grown and expanded to other neighboring countries.\n"
      ],
      "metadata": {
        "id": "jPSMB7yItr0H"
      }
    },
    {
      "cell_type": "markdown",
      "source": [
        "### 1.2. PURPOSE OF THE PROJECT"
      ],
      "metadata": {
        "id": "DaFcFyMU3Wb6"
      }
    },
    {
      "cell_type": "markdown",
      "source": [
        "The main purpose of the this project is to answer the business questions and also to recommend whether or not to sign the deal with Magist and based on this recommendation, building a narrative with the information found in this dataset and external research on the Brazilian market, then visualizing the data with Tableau."
      ],
      "metadata": {
        "id": "ECgnBrOn325L"
      }
    },
    {
      "cell_type": "markdown",
      "source": [
        "### 1.3. BUSINESS QUESTIONS"
      ],
      "metadata": {
        "id": "uoamFZga382s"
      }
    },
    {
      "cell_type": "markdown",
      "source": [
        "**In relation to the products:**\n",
        "\n",
        "- What categories of tech products does Magist have?\n",
        "\n",
        "- How many products of these tech categories have been sold (within the time window of the database snapshot)?\n",
        "- What percentage does that represent from the overall number of products sold?\n",
        "- What’s the average price of the products being sold?\n",
        "- Are expensive tech products popular? *\n",
        "\n",
        "\n",
        "**In relation to the sellers:**\n",
        "\n",
        "- How many months of data are included in the magist database?\n",
        "- How many sellers are there? How many Tech sellers are there? What percentage of overall sellers are Tech sellers?\n",
        "- What is the total amount earned by all sellers? What is the total amount earned by all Tech sellers?\n",
        "- Can you work out the average monthly income of all sellers? Can you work out the average monthly income of Tech sellers?\n",
        "- In relation to the delivery time:\n",
        "\n",
        "- What’s the average time between the order being placed and the product being delivered?\n",
        "- How many orders are delivered on time vs orders delivered with a delay?\n",
        "- Is there any pattern for delayed orders, e.g. big products being delayed more often?"
      ],
      "metadata": {
        "id": "6FWNea5m4Cfe"
      }
    },
    {
      "cell_type": "markdown",
      "source": [
        "### 1.4. METHODS & TECHNOLOGIES"
      ],
      "metadata": {
        "id": "tKYbzwOp4TU4"
      }
    },
    {
      "cell_type": "markdown",
      "source": [
        "\n",
        "\n",
        "🔹 Methods Used\n",
        "\n",
        "SQL Functions\n",
        "\n",
        "Data Analysis\n",
        "\n",
        "Data Visualization\n",
        "\n",
        "\n",
        "\n",
        "🔹 Technologies\n",
        "\n",
        "MySQL\n",
        "\n",
        "Tableau\n",
        "\n"
      ],
      "metadata": {
        "id": "1PMUwR5P4S1W"
      }
    }
  ]
}